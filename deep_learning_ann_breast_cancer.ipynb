{
  "nbformat": 4,
  "nbformat_minor": 0,
  "metadata": {
    "colab": {
      "name": "Copie de deep_learning ann breast cancer.ipynb",
      "provenance": [],
      "authorship_tag": "ABX9TyMzL7GA78KAjGUVIwqG2by7",
      "include_colab_link": true
    },
    "kernelspec": {
      "name": "python3",
      "display_name": "Python 3"
    },
    "language_info": {
      "name": "python"
    }
  },
  "cells": [
    {
      "cell_type": "markdown",
      "metadata": {
        "id": "view-in-github",
        "colab_type": "text"
      },
      "source": [
        "<a href=\"https://colab.research.google.com/github/mmkhinintn/ds/blob/main/deep_learning_ann_breast_cancer.ipynb\" target=\"_parent\"><img src=\"https://colab.research.google.com/assets/colab-badge.svg\" alt=\"Open In Colab\"/></a>"
      ]
    },
    {
      "cell_type": "code",
      "metadata": {
        "colab": {
          "base_uri": "https://localhost:8080/"
        },
        "id": "t6AGysKMazzQ",
        "outputId": "1a1acdb5-3532-494c-f940-4b4d5a12203c"
      },
      "source": [
        "pip install tensorflow"
      ],
      "execution_count": null,
      "outputs": [
        {
          "output_type": "stream",
          "name": "stdout",
          "text": [
            "Requirement already satisfied: tensorflow in /usr/local/lib/python3.7/dist-packages (2.6.0)\n",
            "Requirement already satisfied: keras~=2.6 in /usr/local/lib/python3.7/dist-packages (from tensorflow) (2.6.0)\n",
            "Requirement already satisfied: protobuf>=3.9.2 in /usr/local/lib/python3.7/dist-packages (from tensorflow) (3.17.3)\n",
            "Requirement already satisfied: astunparse~=1.6.3 in /usr/local/lib/python3.7/dist-packages (from tensorflow) (1.6.3)\n",
            "Requirement already satisfied: gast==0.4.0 in /usr/local/lib/python3.7/dist-packages (from tensorflow) (0.4.0)\n",
            "Requirement already satisfied: typing-extensions~=3.7.4 in /usr/local/lib/python3.7/dist-packages (from tensorflow) (3.7.4.3)\n",
            "Requirement already satisfied: flatbuffers~=1.12.0 in /usr/local/lib/python3.7/dist-packages (from tensorflow) (1.12)\n",
            "Requirement already satisfied: absl-py~=0.10 in /usr/local/lib/python3.7/dist-packages (from tensorflow) (0.12.0)\n",
            "Requirement already satisfied: grpcio<2.0,>=1.37.0 in /usr/local/lib/python3.7/dist-packages (from tensorflow) (1.41.0)\n",
            "Requirement already satisfied: termcolor~=1.1.0 in /usr/local/lib/python3.7/dist-packages (from tensorflow) (1.1.0)\n",
            "Requirement already satisfied: h5py~=3.1.0 in /usr/local/lib/python3.7/dist-packages (from tensorflow) (3.1.0)\n",
            "Requirement already satisfied: tensorboard~=2.6 in /usr/local/lib/python3.7/dist-packages (from tensorflow) (2.6.0)\n",
            "Requirement already satisfied: clang~=5.0 in /usr/local/lib/python3.7/dist-packages (from tensorflow) (5.0)\n",
            "Requirement already satisfied: numpy~=1.19.2 in /usr/local/lib/python3.7/dist-packages (from tensorflow) (1.19.5)\n",
            "Requirement already satisfied: keras-preprocessing~=1.1.2 in /usr/local/lib/python3.7/dist-packages (from tensorflow) (1.1.2)\n",
            "Requirement already satisfied: opt-einsum~=3.3.0 in /usr/local/lib/python3.7/dist-packages (from tensorflow) (3.3.0)\n",
            "Requirement already satisfied: wheel~=0.35 in /usr/local/lib/python3.7/dist-packages (from tensorflow) (0.37.0)\n",
            "Requirement already satisfied: tensorflow-estimator~=2.6 in /usr/local/lib/python3.7/dist-packages (from tensorflow) (2.6.0)\n",
            "Requirement already satisfied: wrapt~=1.12.1 in /usr/local/lib/python3.7/dist-packages (from tensorflow) (1.12.1)\n",
            "Requirement already satisfied: google-pasta~=0.2 in /usr/local/lib/python3.7/dist-packages (from tensorflow) (0.2.0)\n",
            "Requirement already satisfied: six~=1.15.0 in /usr/local/lib/python3.7/dist-packages (from tensorflow) (1.15.0)\n",
            "Requirement already satisfied: cached-property in /usr/local/lib/python3.7/dist-packages (from h5py~=3.1.0->tensorflow) (1.5.2)\n",
            "Requirement already satisfied: werkzeug>=0.11.15 in /usr/local/lib/python3.7/dist-packages (from tensorboard~=2.6->tensorflow) (1.0.1)\n",
            "Requirement already satisfied: setuptools>=41.0.0 in /usr/local/lib/python3.7/dist-packages (from tensorboard~=2.6->tensorflow) (57.4.0)\n",
            "Requirement already satisfied: markdown>=2.6.8 in /usr/local/lib/python3.7/dist-packages (from tensorboard~=2.6->tensorflow) (3.3.4)\n",
            "Requirement already satisfied: tensorboard-plugin-wit>=1.6.0 in /usr/local/lib/python3.7/dist-packages (from tensorboard~=2.6->tensorflow) (1.8.0)\n",
            "Requirement already satisfied: google-auth-oauthlib<0.5,>=0.4.1 in /usr/local/lib/python3.7/dist-packages (from tensorboard~=2.6->tensorflow) (0.4.6)\n",
            "Requirement already satisfied: requests<3,>=2.21.0 in /usr/local/lib/python3.7/dist-packages (from tensorboard~=2.6->tensorflow) (2.23.0)\n",
            "Requirement already satisfied: tensorboard-data-server<0.7.0,>=0.6.0 in /usr/local/lib/python3.7/dist-packages (from tensorboard~=2.6->tensorflow) (0.6.1)\n",
            "Requirement already satisfied: google-auth<2,>=1.6.3 in /usr/local/lib/python3.7/dist-packages (from tensorboard~=2.6->tensorflow) (1.35.0)\n",
            "Requirement already satisfied: pyasn1-modules>=0.2.1 in /usr/local/lib/python3.7/dist-packages (from google-auth<2,>=1.6.3->tensorboard~=2.6->tensorflow) (0.2.8)\n",
            "Requirement already satisfied: cachetools<5.0,>=2.0.0 in /usr/local/lib/python3.7/dist-packages (from google-auth<2,>=1.6.3->tensorboard~=2.6->tensorflow) (4.2.4)\n",
            "Requirement already satisfied: rsa<5,>=3.1.4 in /usr/local/lib/python3.7/dist-packages (from google-auth<2,>=1.6.3->tensorboard~=2.6->tensorflow) (4.7.2)\n",
            "Requirement already satisfied: requests-oauthlib>=0.7.0 in /usr/local/lib/python3.7/dist-packages (from google-auth-oauthlib<0.5,>=0.4.1->tensorboard~=2.6->tensorflow) (1.3.0)\n",
            "Requirement already satisfied: importlib-metadata in /usr/local/lib/python3.7/dist-packages (from markdown>=2.6.8->tensorboard~=2.6->tensorflow) (4.8.1)\n",
            "Requirement already satisfied: pyasn1<0.5.0,>=0.4.6 in /usr/local/lib/python3.7/dist-packages (from pyasn1-modules>=0.2.1->google-auth<2,>=1.6.3->tensorboard~=2.6->tensorflow) (0.4.8)\n",
            "Requirement already satisfied: idna<3,>=2.5 in /usr/local/lib/python3.7/dist-packages (from requests<3,>=2.21.0->tensorboard~=2.6->tensorflow) (2.10)\n",
            "Requirement already satisfied: certifi>=2017.4.17 in /usr/local/lib/python3.7/dist-packages (from requests<3,>=2.21.0->tensorboard~=2.6->tensorflow) (2021.5.30)\n",
            "Requirement already satisfied: urllib3!=1.25.0,!=1.25.1,<1.26,>=1.21.1 in /usr/local/lib/python3.7/dist-packages (from requests<3,>=2.21.0->tensorboard~=2.6->tensorflow) (1.24.3)\n",
            "Requirement already satisfied: chardet<4,>=3.0.2 in /usr/local/lib/python3.7/dist-packages (from requests<3,>=2.21.0->tensorboard~=2.6->tensorflow) (3.0.4)\n",
            "Requirement already satisfied: oauthlib>=3.0.0 in /usr/local/lib/python3.7/dist-packages (from requests-oauthlib>=0.7.0->google-auth-oauthlib<0.5,>=0.4.1->tensorboard~=2.6->tensorflow) (3.1.1)\n",
            "Requirement already satisfied: zipp>=0.5 in /usr/local/lib/python3.7/dist-packages (from importlib-metadata->markdown>=2.6.8->tensorboard~=2.6->tensorflow) (3.6.0)\n"
          ]
        }
      ]
    },
    {
      "cell_type": "code",
      "metadata": {
        "id": "BZ32z0OmbXfA"
      },
      "source": [
        "#Installation des packages\n",
        "from sklearn import datasets\n",
        "import numpy as np\n",
        "import tensorflow as tf\n",
        "from sklearn.preprocessing import StandardScaler\n",
        "from sklearn.model_selection import train_test_split"
      ],
      "execution_count": null,
      "outputs": []
    },
    {
      "cell_type": "code",
      "metadata": {
        "id": "GrKWEo6ibirM"
      },
      "source": [
        "#Telecharger la base de données\n",
        "df=datasets.load_breast_cancer()"
      ],
      "execution_count": null,
      "outputs": []
    },
    {
      "cell_type": "code",
      "metadata": {
        "colab": {
          "base_uri": "https://localhost:8080/"
        },
        "id": "oUInnxSUb4T0",
        "outputId": "cf85a03e-b8eb-40b8-d743-0c9d2c9c06a6"
      },
      "source": [
        "#Decouvrir la base de données\n",
        "print(df.DESCR)"
      ],
      "execution_count": null,
      "outputs": [
        {
          "output_type": "stream",
          "name": "stdout",
          "text": [
            ".. _breast_cancer_dataset:\n",
            "\n",
            "Breast cancer wisconsin (diagnostic) dataset\n",
            "--------------------------------------------\n",
            "\n",
            "**Data Set Characteristics:**\n",
            "\n",
            "    :Number of Instances: 569\n",
            "\n",
            "    :Number of Attributes: 30 numeric, predictive attributes and the class\n",
            "\n",
            "    :Attribute Information:\n",
            "        - radius (mean of distances from center to points on the perimeter)\n",
            "        - texture (standard deviation of gray-scale values)\n",
            "        - perimeter\n",
            "        - area\n",
            "        - smoothness (local variation in radius lengths)\n",
            "        - compactness (perimeter^2 / area - 1.0)\n",
            "        - concavity (severity of concave portions of the contour)\n",
            "        - concave points (number of concave portions of the contour)\n",
            "        - symmetry \n",
            "        - fractal dimension (\"coastline approximation\" - 1)\n",
            "\n",
            "        The mean, standard error, and \"worst\" or largest (mean of the three\n",
            "        largest values) of these features were computed for each image,\n",
            "        resulting in 30 features.  For instance, field 3 is Mean Radius, field\n",
            "        13 is Radius SE, field 23 is Worst Radius.\n",
            "\n",
            "        - class:\n",
            "                - WDBC-Malignant\n",
            "                - WDBC-Benign\n",
            "\n",
            "    :Summary Statistics:\n",
            "\n",
            "    ===================================== ====== ======\n",
            "                                           Min    Max\n",
            "    ===================================== ====== ======\n",
            "    radius (mean):                        6.981  28.11\n",
            "    texture (mean):                       9.71   39.28\n",
            "    perimeter (mean):                     43.79  188.5\n",
            "    area (mean):                          143.5  2501.0\n",
            "    smoothness (mean):                    0.053  0.163\n",
            "    compactness (mean):                   0.019  0.345\n",
            "    concavity (mean):                     0.0    0.427\n",
            "    concave points (mean):                0.0    0.201\n",
            "    symmetry (mean):                      0.106  0.304\n",
            "    fractal dimension (mean):             0.05   0.097\n",
            "    radius (standard error):              0.112  2.873\n",
            "    texture (standard error):             0.36   4.885\n",
            "    perimeter (standard error):           0.757  21.98\n",
            "    area (standard error):                6.802  542.2\n",
            "    smoothness (standard error):          0.002  0.031\n",
            "    compactness (standard error):         0.002  0.135\n",
            "    concavity (standard error):           0.0    0.396\n",
            "    concave points (standard error):      0.0    0.053\n",
            "    symmetry (standard error):            0.008  0.079\n",
            "    fractal dimension (standard error):   0.001  0.03\n",
            "    radius (worst):                       7.93   36.04\n",
            "    texture (worst):                      12.02  49.54\n",
            "    perimeter (worst):                    50.41  251.2\n",
            "    area (worst):                         185.2  4254.0\n",
            "    smoothness (worst):                   0.071  0.223\n",
            "    compactness (worst):                  0.027  1.058\n",
            "    concavity (worst):                    0.0    1.252\n",
            "    concave points (worst):               0.0    0.291\n",
            "    symmetry (worst):                     0.156  0.664\n",
            "    fractal dimension (worst):            0.055  0.208\n",
            "    ===================================== ====== ======\n",
            "\n",
            "    :Missing Attribute Values: None\n",
            "\n",
            "    :Class Distribution: 212 - Malignant, 357 - Benign\n",
            "\n",
            "    :Creator:  Dr. William H. Wolberg, W. Nick Street, Olvi L. Mangasarian\n",
            "\n",
            "    :Donor: Nick Street\n",
            "\n",
            "    :Date: November, 1995\n",
            "\n",
            "This is a copy of UCI ML Breast Cancer Wisconsin (Diagnostic) datasets.\n",
            "https://goo.gl/U2Uwz2\n",
            "\n",
            "Features are computed from a digitized image of a fine needle\n",
            "aspirate (FNA) of a breast mass.  They describe\n",
            "characteristics of the cell nuclei present in the image.\n",
            "\n",
            "Separating plane described above was obtained using\n",
            "Multisurface Method-Tree (MSM-T) [K. P. Bennett, \"Decision Tree\n",
            "Construction Via Linear Programming.\" Proceedings of the 4th\n",
            "Midwest Artificial Intelligence and Cognitive Science Society,\n",
            "pp. 97-101, 1992], a classification method which uses linear\n",
            "programming to construct a decision tree.  Relevant features\n",
            "were selected using an exhaustive search in the space of 1-4\n",
            "features and 1-3 separating planes.\n",
            "\n",
            "The actual linear program used to obtain the separating plane\n",
            "in the 3-dimensional space is that described in:\n",
            "[K. P. Bennett and O. L. Mangasarian: \"Robust Linear\n",
            "Programming Discrimination of Two Linearly Inseparable Sets\",\n",
            "Optimization Methods and Software 1, 1992, 23-34].\n",
            "\n",
            "This database is also available through the UW CS ftp server:\n",
            "\n",
            "ftp ftp.cs.wisc.edu\n",
            "cd math-prog/cpo-dataset/machine-learn/WDBC/\n",
            "\n",
            ".. topic:: References\n",
            "\n",
            "   - W.N. Street, W.H. Wolberg and O.L. Mangasarian. Nuclear feature extraction \n",
            "     for breast tumor diagnosis. IS&T/SPIE 1993 International Symposium on \n",
            "     Electronic Imaging: Science and Technology, volume 1905, pages 861-870,\n",
            "     San Jose, CA, 1993.\n",
            "   - O.L. Mangasarian, W.N. Street and W.H. Wolberg. Breast cancer diagnosis and \n",
            "     prognosis via linear programming. Operations Research, 43(4), pages 570-577, \n",
            "     July-August 1995.\n",
            "   - W.H. Wolberg, W.N. Street, and O.L. Mangasarian. Machine learning techniques\n",
            "     to diagnose breast cancer from fine-needle aspirates. Cancer Letters 77 (1994) \n",
            "     163-171.\n"
          ]
        }
      ]
    },
    {
      "cell_type": "code",
      "metadata": {
        "colab": {
          "base_uri": "https://localhost:8080/"
        },
        "id": "7WzxhfpdcuM9",
        "outputId": "7c7f8819-8ba6-48b3-e5ce-c1d514422c4b"
      },
      "source": [
        "df.data"
      ],
      "execution_count": null,
      "outputs": [
        {
          "output_type": "execute_result",
          "data": {
            "text/plain": [
              "array([[1.799e+01, 1.038e+01, 1.228e+02, ..., 2.654e-01, 4.601e-01,\n",
              "        1.189e-01],\n",
              "       [2.057e+01, 1.777e+01, 1.329e+02, ..., 1.860e-01, 2.750e-01,\n",
              "        8.902e-02],\n",
              "       [1.969e+01, 2.125e+01, 1.300e+02, ..., 2.430e-01, 3.613e-01,\n",
              "        8.758e-02],\n",
              "       ...,\n",
              "       [1.660e+01, 2.808e+01, 1.083e+02, ..., 1.418e-01, 2.218e-01,\n",
              "        7.820e-02],\n",
              "       [2.060e+01, 2.933e+01, 1.401e+02, ..., 2.650e-01, 4.087e-01,\n",
              "        1.240e-01],\n",
              "       [7.760e+00, 2.454e+01, 4.792e+01, ..., 0.000e+00, 2.871e-01,\n",
              "        7.039e-02]])"
            ]
          },
          "metadata": {},
          "execution_count": 11
        }
      ]
    },
    {
      "cell_type": "code",
      "metadata": {
        "id": "-ln8rylIdLIU"
      },
      "source": [
        "#Préparer les données\n",
        "X=df.data\n",
        "y=df.target"
      ],
      "execution_count": null,
      "outputs": []
    },
    {
      "cell_type": "code",
      "metadata": {
        "colab": {
          "base_uri": "https://localhost:8080/"
        },
        "id": "Fh9WpTFwddFk",
        "outputId": "d9a5f070-cdc6-40eb-baef-3e1ae6f6d7f3"
      },
      "source": [
        "scaler=StandardScaler()\n",
        "X_scaled=scaler.fit_transform(X)\n",
        "X_scaled"
      ],
      "execution_count": null,
      "outputs": [
        {
          "output_type": "execute_result",
          "data": {
            "text/plain": [
              "array([[ 1.09706398, -2.07333501,  1.26993369, ...,  2.29607613,\n",
              "         2.75062224,  1.93701461],\n",
              "       [ 1.82982061, -0.35363241,  1.68595471, ...,  1.0870843 ,\n",
              "        -0.24388967,  0.28118999],\n",
              "       [ 1.57988811,  0.45618695,  1.56650313, ...,  1.95500035,\n",
              "         1.152255  ,  0.20139121],\n",
              "       ...,\n",
              "       [ 0.70228425,  2.0455738 ,  0.67267578, ...,  0.41406869,\n",
              "        -1.10454895, -0.31840916],\n",
              "       [ 1.83834103,  2.33645719,  1.98252415, ...,  2.28998549,\n",
              "         1.91908301,  2.21963528],\n",
              "       [-1.80840125,  1.22179204, -1.81438851, ..., -1.74506282,\n",
              "        -0.04813821, -0.75120669]])"
            ]
          },
          "metadata": {},
          "execution_count": 14
        }
      ]
    },
    {
      "cell_type": "code",
      "metadata": {
        "id": "2D7hGqj4eATO"
      },
      "source": [
        "#On va séaprer les données de tests et les données d'entrainements\n",
        "X_train,X_test,y_train,y_test=train_test_split(X_scaled,y,test_size=0.2,random_state=42)\n",
        "#On a divisé notre base de données en une base de données test et entrainement\n"
      ],
      "execution_count": null,
      "outputs": []
    },
    {
      "cell_type": "code",
      "metadata": {
        "colab": {
          "base_uri": "https://localhost:8080/"
        },
        "id": "cEtJuPDCgAZ2",
        "outputId": "078938c1-5c41-443e-f61e-04a63bbfafc6"
      },
      "source": [
        "print(X_train.shape,X_test.shape)"
      ],
      "execution_count": null,
      "outputs": [
        {
          "output_type": "stream",
          "name": "stdout",
          "text": [
            "(455, 30) (114, 30)\n"
          ]
        }
      ]
    },
    {
      "cell_type": "code",
      "metadata": {
        "id": "rX5Mh63UgjuV"
      },
      "source": [
        "#Construction de réseaux de neurones\n",
        "#Création du réseau de neurone\n",
        "model=tf.keras.models.Sequential()\n"
      ],
      "execution_count": null,
      "outputs": []
    },
    {
      "cell_type": "code",
      "metadata": {
        "id": "lzQvRGoKhgxp"
      },
      "source": [
        "#Rajout du couche cachée\n",
        "model.add(tf.keras.layers.Dense(units=15,activation='relu',kernel_initializer='uniform',input_dim=30))"
      ],
      "execution_count": null,
      "outputs": []
    },
    {
      "cell_type": "code",
      "metadata": {
        "id": "omf7d7yMkadq"
      },
      "source": [
        "model.add(tf.keras.layers.Dense(units=1,activation='sigmoid',kernel_initializer='uniform'))"
      ],
      "execution_count": null,
      "outputs": []
    },
    {
      "cell_type": "code",
      "metadata": {
        "id": "DQVRNMBKkuMy"
      },
      "source": [
        "#Rajouter la fonction cout\n",
        "model.compile(optimizer='adam',loss='binary_crossentropy',metrics=['binary_accuracy'])\n"
      ],
      "execution_count": null,
      "outputs": []
    },
    {
      "cell_type": "code",
      "metadata": {
        "colab": {
          "base_uri": "https://localhost:8080/"
        },
        "id": "OHetyV2klrSh",
        "outputId": "817fbd7a-9972-4200-d6b1-5e497803cd92"
      },
      "source": [
        "model.summary()"
      ],
      "execution_count": null,
      "outputs": [
        {
          "output_type": "stream",
          "name": "stdout",
          "text": [
            "Model: \"sequential\"\n",
            "_________________________________________________________________\n",
            "Layer (type)                 Output Shape              Param #   \n",
            "=================================================================\n",
            "dense (Dense)                (None, 15)                465       \n",
            "_________________________________________________________________\n",
            "dense_1 (Dense)              (None, 1)                 16        \n",
            "=================================================================\n",
            "Total params: 481\n",
            "Trainable params: 481\n",
            "Non-trainable params: 0\n",
            "_________________________________________________________________\n"
          ]
        }
      ]
    },
    {
      "cell_type": "code",
      "metadata": {
        "colab": {
          "base_uri": "https://localhost:8080/"
        },
        "id": "5G-CLIxymqaI",
        "outputId": "a205e674-2324-45e8-dd0e-d2ff71deb5c8"
      },
      "source": [
        "model.fit(X_train,y_train,batch_size=10,epochs=100)"
      ],
      "execution_count": null,
      "outputs": [
        {
          "output_type": "stream",
          "name": "stdout",
          "text": [
            "Epoch 1/100\n",
            "46/46 [==============================] - 1s 2ms/step - loss: 0.6364 - binary_accuracy: 0.9165\n",
            "Epoch 2/100\n",
            "46/46 [==============================] - 0s 2ms/step - loss: 0.4313 - binary_accuracy: 0.9341\n",
            "Epoch 3/100\n",
            "46/46 [==============================] - 0s 2ms/step - loss: 0.2553 - binary_accuracy: 0.9451\n",
            "Epoch 4/100\n",
            "46/46 [==============================] - 0s 2ms/step - loss: 0.1784 - binary_accuracy: 0.9604\n",
            "Epoch 5/100\n",
            "46/46 [==============================] - 0s 2ms/step - loss: 0.1401 - binary_accuracy: 0.9648\n",
            "Epoch 6/100\n",
            "46/46 [==============================] - 0s 2ms/step - loss: 0.1175 - binary_accuracy: 0.9692\n",
            "Epoch 7/100\n",
            "46/46 [==============================] - 0s 2ms/step - loss: 0.1032 - binary_accuracy: 0.9758\n",
            "Epoch 8/100\n",
            "46/46 [==============================] - 0s 2ms/step - loss: 0.0938 - binary_accuracy: 0.9802\n",
            "Epoch 9/100\n",
            "46/46 [==============================] - 0s 2ms/step - loss: 0.0863 - binary_accuracy: 0.9824\n",
            "Epoch 10/100\n",
            "46/46 [==============================] - 0s 2ms/step - loss: 0.0807 - binary_accuracy: 0.9824\n",
            "Epoch 11/100\n",
            "46/46 [==============================] - 0s 1ms/step - loss: 0.0762 - binary_accuracy: 0.9846\n",
            "Epoch 12/100\n",
            "46/46 [==============================] - 0s 1ms/step - loss: 0.0727 - binary_accuracy: 0.9824\n",
            "Epoch 13/100\n",
            "46/46 [==============================] - 0s 2ms/step - loss: 0.0694 - binary_accuracy: 0.9846\n",
            "Epoch 14/100\n",
            "46/46 [==============================] - 0s 2ms/step - loss: 0.0669 - binary_accuracy: 0.9824\n",
            "Epoch 15/100\n",
            "46/46 [==============================] - 0s 1ms/step - loss: 0.0646 - binary_accuracy: 0.9824\n",
            "Epoch 16/100\n",
            "46/46 [==============================] - 0s 2ms/step - loss: 0.0629 - binary_accuracy: 0.9824\n",
            "Epoch 17/100\n",
            "46/46 [==============================] - 0s 2ms/step - loss: 0.0613 - binary_accuracy: 0.9824\n",
            "Epoch 18/100\n",
            "46/46 [==============================] - 0s 1ms/step - loss: 0.0595 - binary_accuracy: 0.9824\n",
            "Epoch 19/100\n",
            "46/46 [==============================] - 0s 2ms/step - loss: 0.0582 - binary_accuracy: 0.9824\n",
            "Epoch 20/100\n",
            "46/46 [==============================] - 0s 2ms/step - loss: 0.0571 - binary_accuracy: 0.9824\n",
            "Epoch 21/100\n",
            "46/46 [==============================] - 0s 2ms/step - loss: 0.0562 - binary_accuracy: 0.9824\n",
            "Epoch 22/100\n",
            "46/46 [==============================] - 0s 1ms/step - loss: 0.0545 - binary_accuracy: 0.9824\n",
            "Epoch 23/100\n",
            "46/46 [==============================] - 0s 1ms/step - loss: 0.0539 - binary_accuracy: 0.9824\n",
            "Epoch 24/100\n",
            "46/46 [==============================] - 0s 2ms/step - loss: 0.0526 - binary_accuracy: 0.9824\n",
            "Epoch 25/100\n",
            "46/46 [==============================] - 0s 2ms/step - loss: 0.0518 - binary_accuracy: 0.9824\n",
            "Epoch 26/100\n",
            "46/46 [==============================] - 0s 1ms/step - loss: 0.0507 - binary_accuracy: 0.9824\n",
            "Epoch 27/100\n",
            "46/46 [==============================] - 0s 1ms/step - loss: 0.0502 - binary_accuracy: 0.9824\n",
            "Epoch 28/100\n",
            "46/46 [==============================] - 0s 1ms/step - loss: 0.0498 - binary_accuracy: 0.9824\n",
            "Epoch 29/100\n",
            "46/46 [==============================] - 0s 2ms/step - loss: 0.0493 - binary_accuracy: 0.9824\n",
            "Epoch 30/100\n",
            "46/46 [==============================] - 0s 1ms/step - loss: 0.0478 - binary_accuracy: 0.9824\n",
            "Epoch 31/100\n",
            "46/46 [==============================] - 0s 1ms/step - loss: 0.0471 - binary_accuracy: 0.9846\n",
            "Epoch 32/100\n",
            "46/46 [==============================] - 0s 1ms/step - loss: 0.0467 - binary_accuracy: 0.9824\n",
            "Epoch 33/100\n",
            "46/46 [==============================] - 0s 2ms/step - loss: 0.0458 - binary_accuracy: 0.9824\n",
            "Epoch 34/100\n",
            "46/46 [==============================] - 0s 1ms/step - loss: 0.0445 - binary_accuracy: 0.9846\n",
            "Epoch 35/100\n",
            "46/46 [==============================] - 0s 2ms/step - loss: 0.0441 - binary_accuracy: 0.9868\n",
            "Epoch 36/100\n",
            "46/46 [==============================] - 0s 2ms/step - loss: 0.0434 - binary_accuracy: 0.9846\n",
            "Epoch 37/100\n",
            "46/46 [==============================] - 0s 2ms/step - loss: 0.0426 - binary_accuracy: 0.9868\n",
            "Epoch 38/100\n",
            "46/46 [==============================] - 0s 2ms/step - loss: 0.0420 - binary_accuracy: 0.9868\n",
            "Epoch 39/100\n",
            "46/46 [==============================] - 0s 1ms/step - loss: 0.0414 - binary_accuracy: 0.9890\n",
            "Epoch 40/100\n",
            "46/46 [==============================] - 0s 2ms/step - loss: 0.0405 - binary_accuracy: 0.9890\n",
            "Epoch 41/100\n",
            "46/46 [==============================] - 0s 2ms/step - loss: 0.0399 - binary_accuracy: 0.9890\n",
            "Epoch 42/100\n",
            "46/46 [==============================] - 0s 2ms/step - loss: 0.0394 - binary_accuracy: 0.9890\n",
            "Epoch 43/100\n",
            "46/46 [==============================] - 0s 1ms/step - loss: 0.0395 - binary_accuracy: 0.9912\n",
            "Epoch 44/100\n",
            "46/46 [==============================] - 0s 2ms/step - loss: 0.0384 - binary_accuracy: 0.9890\n",
            "Epoch 45/100\n",
            "46/46 [==============================] - 0s 2ms/step - loss: 0.0375 - binary_accuracy: 0.9912\n",
            "Epoch 46/100\n",
            "46/46 [==============================] - 0s 2ms/step - loss: 0.0367 - binary_accuracy: 0.9912\n",
            "Epoch 47/100\n",
            "46/46 [==============================] - 0s 1ms/step - loss: 0.0366 - binary_accuracy: 0.9890\n",
            "Epoch 48/100\n",
            "46/46 [==============================] - 0s 2ms/step - loss: 0.0358 - binary_accuracy: 0.9912\n",
            "Epoch 49/100\n",
            "46/46 [==============================] - 0s 1ms/step - loss: 0.0350 - binary_accuracy: 0.9912\n",
            "Epoch 50/100\n",
            "46/46 [==============================] - 0s 1ms/step - loss: 0.0348 - binary_accuracy: 0.9912\n",
            "Epoch 51/100\n",
            "46/46 [==============================] - 0s 2ms/step - loss: 0.0343 - binary_accuracy: 0.9912\n",
            "Epoch 52/100\n",
            "46/46 [==============================] - 0s 2ms/step - loss: 0.0334 - binary_accuracy: 0.9912\n",
            "Epoch 53/100\n",
            "46/46 [==============================] - 0s 2ms/step - loss: 0.0330 - binary_accuracy: 0.9912\n",
            "Epoch 54/100\n",
            "46/46 [==============================] - 0s 1ms/step - loss: 0.0324 - binary_accuracy: 0.9912\n",
            "Epoch 55/100\n",
            "46/46 [==============================] - 0s 2ms/step - loss: 0.0321 - binary_accuracy: 0.9912\n",
            "Epoch 56/100\n",
            "46/46 [==============================] - 0s 2ms/step - loss: 0.0314 - binary_accuracy: 0.9912\n",
            "Epoch 57/100\n",
            "46/46 [==============================] - 0s 1ms/step - loss: 0.0308 - binary_accuracy: 0.9912\n",
            "Epoch 58/100\n",
            "46/46 [==============================] - 0s 1ms/step - loss: 0.0304 - binary_accuracy: 0.9912\n",
            "Epoch 59/100\n",
            "46/46 [==============================] - 0s 2ms/step - loss: 0.0298 - binary_accuracy: 0.9912\n",
            "Epoch 60/100\n",
            "46/46 [==============================] - 0s 2ms/step - loss: 0.0291 - binary_accuracy: 0.9912\n",
            "Epoch 61/100\n",
            "46/46 [==============================] - 0s 2ms/step - loss: 0.0285 - binary_accuracy: 0.9912\n",
            "Epoch 62/100\n",
            "46/46 [==============================] - 0s 1ms/step - loss: 0.0281 - binary_accuracy: 0.9912\n",
            "Epoch 63/100\n",
            "46/46 [==============================] - 0s 2ms/step - loss: 0.0275 - binary_accuracy: 0.9912\n",
            "Epoch 64/100\n",
            "46/46 [==============================] - 0s 2ms/step - loss: 0.0272 - binary_accuracy: 0.9912\n",
            "Epoch 65/100\n",
            "46/46 [==============================] - 0s 2ms/step - loss: 0.0267 - binary_accuracy: 0.9912\n",
            "Epoch 66/100\n",
            "46/46 [==============================] - 0s 2ms/step - loss: 0.0262 - binary_accuracy: 0.9912\n",
            "Epoch 67/100\n",
            "46/46 [==============================] - 0s 2ms/step - loss: 0.0257 - binary_accuracy: 0.9912\n",
            "Epoch 68/100\n",
            "46/46 [==============================] - 0s 1ms/step - loss: 0.0252 - binary_accuracy: 0.9912\n",
            "Epoch 69/100\n",
            "46/46 [==============================] - 0s 1ms/step - loss: 0.0251 - binary_accuracy: 0.9912\n",
            "Epoch 70/100\n",
            "46/46 [==============================] - 0s 2ms/step - loss: 0.0243 - binary_accuracy: 0.9912\n",
            "Epoch 71/100\n",
            "46/46 [==============================] - 0s 2ms/step - loss: 0.0246 - binary_accuracy: 0.9912\n",
            "Epoch 72/100\n",
            "46/46 [==============================] - 0s 1ms/step - loss: 0.0235 - binary_accuracy: 0.9912\n",
            "Epoch 73/100\n",
            "46/46 [==============================] - 0s 2ms/step - loss: 0.0233 - binary_accuracy: 0.9912\n",
            "Epoch 74/100\n",
            "46/46 [==============================] - 0s 2ms/step - loss: 0.0227 - binary_accuracy: 0.9912\n",
            "Epoch 75/100\n",
            "46/46 [==============================] - 0s 2ms/step - loss: 0.0227 - binary_accuracy: 0.9912\n",
            "Epoch 76/100\n",
            "46/46 [==============================] - 0s 2ms/step - loss: 0.0221 - binary_accuracy: 0.9912\n",
            "Epoch 77/100\n",
            "46/46 [==============================] - 0s 2ms/step - loss: 0.0217 - binary_accuracy: 0.9912\n",
            "Epoch 78/100\n",
            "46/46 [==============================] - 0s 1ms/step - loss: 0.0214 - binary_accuracy: 0.9912\n",
            "Epoch 79/100\n",
            "46/46 [==============================] - 0s 1ms/step - loss: 0.0216 - binary_accuracy: 0.9912\n",
            "Epoch 80/100\n",
            "46/46 [==============================] - 0s 1ms/step - loss: 0.0206 - binary_accuracy: 0.9912\n",
            "Epoch 81/100\n",
            "46/46 [==============================] - 0s 1ms/step - loss: 0.0202 - binary_accuracy: 0.9912\n",
            "Epoch 82/100\n",
            "46/46 [==============================] - 0s 2ms/step - loss: 0.0200 - binary_accuracy: 0.9912\n",
            "Epoch 83/100\n",
            "46/46 [==============================] - 0s 2ms/step - loss: 0.0195 - binary_accuracy: 0.9912\n",
            "Epoch 84/100\n",
            "46/46 [==============================] - 0s 2ms/step - loss: 0.0191 - binary_accuracy: 0.9912\n",
            "Epoch 85/100\n",
            "46/46 [==============================] - 0s 2ms/step - loss: 0.0188 - binary_accuracy: 0.9912\n",
            "Epoch 86/100\n",
            "46/46 [==============================] - 0s 2ms/step - loss: 0.0183 - binary_accuracy: 0.9912\n",
            "Epoch 87/100\n",
            "46/46 [==============================] - 0s 2ms/step - loss: 0.0186 - binary_accuracy: 0.9912\n",
            "Epoch 88/100\n",
            "46/46 [==============================] - 0s 2ms/step - loss: 0.0182 - binary_accuracy: 0.9912\n",
            "Epoch 89/100\n",
            "46/46 [==============================] - 0s 1ms/step - loss: 0.0175 - binary_accuracy: 0.9912\n",
            "Epoch 90/100\n",
            "46/46 [==============================] - 0s 2ms/step - loss: 0.0174 - binary_accuracy: 0.9912\n",
            "Epoch 91/100\n",
            "46/46 [==============================] - 0s 2ms/step - loss: 0.0171 - binary_accuracy: 0.9912\n",
            "Epoch 92/100\n",
            "46/46 [==============================] - 0s 2ms/step - loss: 0.0170 - binary_accuracy: 0.9912\n",
            "Epoch 93/100\n",
            "46/46 [==============================] - 0s 2ms/step - loss: 0.0165 - binary_accuracy: 0.9912\n",
            "Epoch 94/100\n",
            "46/46 [==============================] - 0s 2ms/step - loss: 0.0162 - binary_accuracy: 0.9934\n",
            "Epoch 95/100\n",
            "46/46 [==============================] - 0s 2ms/step - loss: 0.0161 - binary_accuracy: 0.9912\n",
            "Epoch 96/100\n",
            "46/46 [==============================] - 0s 2ms/step - loss: 0.0157 - binary_accuracy: 0.9934\n",
            "Epoch 97/100\n",
            "46/46 [==============================] - 0s 2ms/step - loss: 0.0154 - binary_accuracy: 0.9934\n",
            "Epoch 98/100\n",
            "46/46 [==============================] - 0s 2ms/step - loss: 0.0152 - binary_accuracy: 0.9934\n",
            "Epoch 99/100\n",
            "46/46 [==============================] - 0s 2ms/step - loss: 0.0148 - binary_accuracy: 0.9934\n",
            "Epoch 100/100\n",
            "46/46 [==============================] - 0s 1ms/step - loss: 0.0144 - binary_accuracy: 0.9934\n"
          ]
        },
        {
          "output_type": "execute_result",
          "data": {
            "text/plain": [
              "<keras.callbacks.History at 0x7f5e8e8d6f90>"
            ]
          },
          "metadata": {},
          "execution_count": 23
        }
      ]
    },
    {
      "cell_type": "code",
      "metadata": {
        "colab": {
          "base_uri": "https://localhost:8080/"
        },
        "id": "SQ_J6mc5nU-h",
        "outputId": "fb37bb5f-70bf-42bd-cdc5-26aa27b73fdb"
      },
      "source": [
        "test_loss,test_accuracy=model.evaluate(X_test,y_test)\n",
        "print(f'test accuracy {test_accuracy} et Test loss {test_loss}')"
      ],
      "execution_count": null,
      "outputs": [
        {
          "output_type": "stream",
          "name": "stdout",
          "text": [
            "4/4 [==============================] - 0s 3ms/step - loss: 0.0603 - binary_accuracy: 0.9825\n",
            "test accuracy 0.9824561476707458 et Test loss 0.06029729172587395\n"
          ]
        }
      ]
    }
  ]
}